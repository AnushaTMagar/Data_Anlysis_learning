{
 "cells": [
  {
   "cell_type": "code",
   "execution_count": 1,
   "id": "df71deff",
   "metadata": {},
   "outputs": [],
   "source": [
    "#example of variable\n",
    "x= 2\n",
    "y = \"Mindriser\""
   ]
  },
  {
   "cell_type": "code",
   "execution_count": 2,
   "id": "22a84c08",
   "metadata": {},
   "outputs": [
    {
     "name": "stdout",
     "output_type": "stream",
     "text": [
      "2\n"
     ]
    }
   ],
   "source": [
    "print(x)"
   ]
  },
  {
   "cell_type": "code",
   "execution_count": 3,
   "id": "bf22680c",
   "metadata": {},
   "outputs": [
    {
     "name": "stdout",
     "output_type": "stream",
     "text": [
      "Mindriser\n"
     ]
    }
   ],
   "source": [
    "print(y)"
   ]
  },
  {
   "cell_type": "code",
   "execution_count": 4,
   "id": "8ba4901b",
   "metadata": {},
   "outputs": [],
   "source": [
    "name = \"Anusha\""
   ]
  },
  {
   "cell_type": "code",
   "execution_count": 5,
   "id": "ceeaccb5",
   "metadata": {},
   "outputs": [
    {
     "name": "stdout",
     "output_type": "stream",
     "text": [
      "Anusha\n"
     ]
    }
   ],
   "source": [
    "print(name)"
   ]
  },
  {
   "cell_type": "code",
   "execution_count": 6,
   "id": "88693488",
   "metadata": {},
   "outputs": [
    {
     "ename": "SyntaxError",
     "evalue": "invalid decimal literal (1226516467.py, line 1)",
     "output_type": "error",
     "traceback": [
      "\u001b[1;36m  Cell \u001b[1;32mIn[6], line 1\u001b[1;36m\u001b[0m\n\u001b[1;33m    7name = \"Anusha\"\u001b[0m\n\u001b[1;37m    ^\u001b[0m\n\u001b[1;31mSyntaxError\u001b[0m\u001b[1;31m:\u001b[0m invalid decimal literal\n"
     ]
    }
   ],
   "source": [
    "7name = \"Anusha\""
   ]
  },
  {
   "cell_type": "code",
   "execution_count": 9,
   "id": "b5091206",
   "metadata": {},
   "outputs": [
    {
     "name": "stdout",
     "output_type": "stream",
     "text": [
      "Anusha\n",
      "Madan\n"
     ]
    }
   ],
   "source": [
    "name = \"Anusha\"\n",
    "Name = \"Madan\"\n",
    "print(name)\n",
    "print(Name)"
   ]
  },
  {
   "cell_type": "markdown",
   "id": "96951fd9",
   "metadata": {},
   "source": [
    "## python data type"
   ]
  },
  {
   "cell_type": "markdown",
   "id": "e2d59c1b",
   "metadata": {},
   "source": [
    "Text = str   \n",
    "example : \"anusha\" inside quotes  \n",
    "Numerica = int, float, complex  \n",
    "Sequence = list \"[]\" , tuple \"()\", range  \n",
    "Mapping= dict {}  \n",
    "Set = set\" {}\", frozenset  \n",
    "Boolean = bool  \n"
   ]
  },
  {
   "cell_type": "code",
   "execution_count": 22,
   "id": "8c750fb7",
   "metadata": {},
   "outputs": [
    {
     "name": "stdout",
     "output_type": "stream",
     "text": [
      "{'Anusha': 'Anusha', 23: '23'}\n",
      "True\n"
     ]
    }
   ],
   "source": [
    "# different data types\n",
    "name = \"Anusha\" # str data type\n",
    "age = 23 #int\n",
    "height = 5.3 # float\n",
    "book = [\"Game of Thrones\", \" The Alchemist\"] #list\n",
    "countries = {\"Nepal\", \"India\", \"Bangladesh\"} #tuple\n",
    "x= range(5) #range\n",
    "my_info = {name: \"Anusha\", age: \"23\"}\n",
    "is_okay = True\n",
    "print (my_info)\n",
    "print(hello)\n",
    "\n"
   ]
  },
  {
   "cell_type": "code",
   "execution_count": 21,
   "id": "99ef7be0",
   "metadata": {},
   "outputs": [
    {
     "name": "stdout",
     "output_type": "stream",
     "text": [
      "<class 'dict'>\n",
      "<class 'list'>\n",
      "<class 'bool'>\n"
     ]
    }
   ],
   "source": [
    "print(type(my_info))\n",
    "print(type(book))\n",
    "print(type(is_okay))"
   ]
  },
  {
   "cell_type": "markdown",
   "id": "ad26d625",
   "metadata": {},
   "source": [
    "### Type Casting\n",
    "Changing from one date type to another data type. For example: float data type of 2.5 to integer data type -> a= int(2.5) o/p will be 2.\n"
   ]
  },
  {
   "cell_type": "markdown",
   "id": "cd51e2b7",
   "metadata": {},
   "source": [
    "### Exercise 2.2"
   ]
  },
  {
   "cell_type": "code",
   "execution_count": 24,
   "id": "6e6e3f0c",
   "metadata": {},
   "outputs": [
    {
     "name": "stdout",
     "output_type": "stream",
     "text": [
      "10\n",
      "<class 'int'>\n"
     ]
    }
   ],
   "source": [
    "#Write code below to create a variable of type int\n",
    "a= 10\n",
    "print(a)\n",
    "print(type(a))"
   ]
  },
  {
   "cell_type": "code",
   "execution_count": 25,
   "id": "85dc82c7",
   "metadata": {},
   "outputs": [
    {
     "name": "stdout",
     "output_type": "stream",
     "text": [
      "10.0\n",
      "<class 'float'>\n"
     ]
    }
   ],
   "source": [
    "#write code below to convert above int variable to float\n",
    "b = float(a)\n",
    "print(b)\n",
    "print(type(b))"
   ]
  },
  {
   "cell_type": "code",
   "execution_count": 26,
   "id": "3fcc2392",
   "metadata": {},
   "outputs": [
    {
     "name": "stdout",
     "output_type": "stream",
     "text": [
      "10\n",
      "<class 'str'>\n"
     ]
    }
   ],
   "source": [
    "# write code below to convert the int variable to str\n",
    "c = str(a)\n",
    "print(c)\n",
    "print(type(c))"
   ]
  },
  {
   "cell_type": "markdown",
   "id": "9be6f648",
   "metadata": {},
   "source": [
    "### Python operator\n"
   ]
  },
  {
   "cell_type": "code",
   "execution_count": null,
   "id": "0a20f024",
   "metadata": {},
   "outputs": [],
   "source": []
  },
  {
   "cell_type": "markdown",
   "id": "9b276c0d",
   "metadata": {},
   "source": [
    "### logical operator  \n",
    "Logical AND  \n",
    "Logical OR  \n",
    "Logical NOT"
   ]
  },
  {
   "cell_type": "code",
   "execution_count": 1,
   "id": "c970d3b4",
   "metadata": {},
   "outputs": [],
   "source": [
    "#assigning variable\n",
    "a=2\n",
    "b=3"
   ]
  },
  {
   "cell_type": "code",
   "execution_count": 2,
   "id": "d6f13c94",
   "metadata": {},
   "outputs": [
    {
     "data": {
      "text/plain": [
       "False"
      ]
     },
     "execution_count": 2,
     "metadata": {},
     "output_type": "execute_result"
    }
   ],
   "source": [
    "a>2 and b>2"
   ]
  },
  {
   "cell_type": "code",
   "execution_count": 3,
   "id": "3babebe1",
   "metadata": {},
   "outputs": [
    {
     "data": {
      "text/plain": [
       "True"
      ]
     },
     "execution_count": 3,
     "metadata": {},
     "output_type": "execute_result"
    }
   ],
   "source": [
    "a>2 or b>2\n"
   ]
  },
  {
   "cell_type": "code",
   "execution_count": 4,
   "id": "319f2468",
   "metadata": {},
   "outputs": [
    {
     "data": {
      "text/plain": [
       "True"
      ]
     },
     "execution_count": 4,
     "metadata": {},
     "output_type": "execute_result"
    }
   ],
   "source": [
    "not a>2"
   ]
  },
  {
   "cell_type": "markdown",
   "id": "d50c604a",
   "metadata": {},
   "source": [
    "### Precedence of logical operator\n",
    "1.NOT  \n",
    "2.AND  \n",
    "3.OR"
   ]
  },
  {
   "cell_type": "code",
   "execution_count": 5,
   "id": "d90ed097",
   "metadata": {},
   "outputs": [
    {
     "data": {
      "text/plain": [
       "False"
      ]
     },
     "execution_count": 5,
     "metadata": {},
     "output_type": "execute_result"
    }
   ],
   "source": [
    "False or False and True and not True"
   ]
  },
  {
   "cell_type": "markdown",
   "id": "8429eef9",
   "metadata": {},
   "source": [
    "### Identity operator\n",
    "Operator that identify the operator. 'is'"
   ]
  },
  {
   "cell_type": "code",
   "execution_count": 6,
   "id": "42906360",
   "metadata": {},
   "outputs": [],
   "source": [
    "x= 3"
   ]
  },
  {
   "cell_type": "code",
   "execution_count": 7,
   "id": "7b460f2a",
   "metadata": {},
   "outputs": [
    {
     "data": {
      "text/plain": [
       "True"
      ]
     },
     "execution_count": 7,
     "metadata": {},
     "output_type": "execute_result"
    }
   ],
   "source": [
    "type(x) is int"
   ]
  },
  {
   "cell_type": "code",
   "execution_count": 8,
   "id": "4f18d260",
   "metadata": {},
   "outputs": [
    {
     "data": {
      "text/plain": [
       "False"
      ]
     },
     "execution_count": 8,
     "metadata": {},
     "output_type": "execute_result"
    }
   ],
   "source": [
    "type(x) is float"
   ]
  },
  {
   "cell_type": "code",
   "execution_count": 9,
   "id": "403d6da3",
   "metadata": {},
   "outputs": [
    {
     "data": {
      "text/plain": [
       "False"
      ]
     },
     "execution_count": 9,
     "metadata": {},
     "output_type": "execute_result"
    }
   ],
   "source": [
    "type(x) is str"
   ]
  },
  {
   "cell_type": "markdown",
   "id": "8dbc11cf",
   "metadata": {},
   "source": [
    "### Membership operator\n",
    "Operator that shows association. 'in'"
   ]
  },
  {
   "cell_type": "code",
   "execution_count": 13,
   "id": "756ac577",
   "metadata": {},
   "outputs": [
    {
     "data": {
      "text/plain": [
       "False"
      ]
     },
     "execution_count": 13,
     "metadata": {},
     "output_type": "execute_result"
    }
   ],
   "source": [
    "\"a\" in \"AnushA\""
   ]
  },
  {
   "cell_type": "markdown",
   "id": "1520f09a",
   "metadata": {},
   "source": [
    "### Python list\n",
    "List is element that store collection of different entity of data types. But for fast processing, we use same data types."
   ]
  },
  {
   "cell_type": "code",
   "execution_count": 14,
   "id": "891b48c0",
   "metadata": {},
   "outputs": [
    {
     "name": "stdout",
     "output_type": "stream",
     "text": [
      "<class 'list'>\n"
     ]
    }
   ],
   "source": [
    "my_book_list = [\"The Alchemist\", \"The Kite Runner\", \"Eleven Minute\", \"Games of throne\"]"
   ]
  },
  {
   "cell_type": "code",
   "execution_count": 15,
   "id": "68f7c3e5",
   "metadata": {},
   "outputs": [
    {
     "name": "stdout",
     "output_type": "stream",
     "text": [
      "<class 'list'>\n"
     ]
    }
   ],
   "source": [
    "print(type(my_book_list))"
   ]
  },
  {
   "cell_type": "code",
   "execution_count": 21,
   "id": "0ec637a3",
   "metadata": {},
   "outputs": [
    {
     "data": {
      "text/plain": [
       "4"
      ]
     },
     "execution_count": 21,
     "metadata": {},
     "output_type": "execute_result"
    }
   ],
   "source": [
    "len(my_book_list)"
   ]
  },
  {
   "cell_type": "markdown",
   "id": "d8ec211b",
   "metadata": {},
   "source": [
    "## Access list type\n",
    "We can access list from two ways:\n",
    "- Positive indexing : It give data from list from ascending order\n",
    "- Negative indexing  ;"
   ]
  },
  {
   "cell_type": "code",
   "execution_count": 17,
   "id": "75ee9ea3",
   "metadata": {},
   "outputs": [
    {
     "name": "stdout",
     "output_type": "stream",
     "text": [
      "The Alchemist\n"
     ]
    }
   ],
   "source": [
    "#concept for indexing\n",
    "print(my_book_list[0])"
   ]
  },
  {
   "cell_type": "code",
   "execution_count": 20,
   "id": "a8e2b3e0",
   "metadata": {},
   "outputs": [
    {
     "name": "stdout",
     "output_type": "stream",
     "text": [
      "Games of throne\n"
     ]
    }
   ],
   "source": [
    "print(my_book_list[3])"
   ]
  },
  {
   "cell_type": "code",
   "execution_count": 22,
   "id": "90225a30",
   "metadata": {},
   "outputs": [
    {
     "name": "stdout",
     "output_type": "stream",
     "text": [
      "The Kite Runner\n"
     ]
    }
   ],
   "source": [
    "#negatuve indexing\n",
    "print(my_book_list[-3])"
   ]
  },
  {
   "cell_type": "markdown",
   "id": "10fdc324",
   "metadata": {},
   "source": [
    "### Range in list\n",
    "It provide range of data from the list"
   ]
  },
  {
   "cell_type": "code",
   "execution_count": 24,
   "id": "343b1c60",
   "metadata": {},
   "outputs": [
    {
     "name": "stdout",
     "output_type": "stream",
     "text": [
      "['The Kite Runner', 'Eleven Minute']\n"
     ]
    }
   ],
   "source": [
    "list_of_book = my_book_list[1:3]\n",
    "print(list_of_book)"
   ]
  },
  {
   "cell_type": "code",
   "execution_count": 27,
   "id": "fc7fa36e",
   "metadata": {},
   "outputs": [
    {
     "name": "stdout",
     "output_type": "stream",
     "text": [
      "['The Kite Runner']\n"
     ]
    }
   ],
   "source": [
    "list_of_book = my_book_list[1:-2]\n",
    "print(list_of_book)"
   ]
  },
  {
   "cell_type": "code",
   "execution_count": 29,
   "id": "23b7487a",
   "metadata": {},
   "outputs": [
    {
     "data": {
      "text/plain": [
       "['The Alchemist', 'The Kite Runner', 'Eleven Minute']"
      ]
     },
     "execution_count": 29,
     "metadata": {},
     "output_type": "execute_result"
    }
   ],
   "source": [
    "my_book_list[:3] # return up to 3 data in list from frist data"
   ]
  },
  {
   "cell_type": "code",
   "execution_count": 37,
   "id": "a7fc167c",
   "metadata": {},
   "outputs": [
    {
     "data": {
      "text/plain": [
       "['The Kite Runner', 'Harry Potter', 'Games of throne']"
      ]
     },
     "execution_count": 37,
     "metadata": {},
     "output_type": "execute_result"
    }
   ],
   "source": [
    "my_book_list[1:] #return book list from index 1 to last"
   ]
  },
  {
   "cell_type": "code",
   "execution_count": 32,
   "id": "dfcf3a89",
   "metadata": {},
   "outputs": [
    {
     "data": {
      "text/plain": [
       "True"
      ]
     },
     "execution_count": 32,
     "metadata": {},
     "output_type": "execute_result"
    }
   ],
   "source": [
    "'The Kite Runner' in my_book_list"
   ]
  },
  {
   "cell_type": "code",
   "execution_count": 33,
   "id": "43cdf2e4",
   "metadata": {},
   "outputs": [
    {
     "data": {
      "text/plain": [
       "False"
      ]
     },
     "execution_count": 33,
     "metadata": {},
     "output_type": "execute_result"
    }
   ],
   "source": [
    "'Harry Potter' in my_book_list"
   ]
  },
  {
   "cell_type": "markdown",
   "id": "6a465739",
   "metadata": {},
   "source": [
    "### Replacing the value in list\n",
    "Value of list can be change by assigning new value in the index number of list. In python, new value always replace old value."
   ]
  },
  {
   "cell_type": "code",
   "execution_count": 34,
   "id": "114fbef1",
   "metadata": {},
   "outputs": [],
   "source": [
    "my_book_list[2] = 'Harry Potter' # replace 3rd element with new one"
   ]
  },
  {
   "cell_type": "code",
   "execution_count": 35,
   "id": "d73a4f6d",
   "metadata": {},
   "outputs": [
    {
     "name": "stdout",
     "output_type": "stream",
     "text": [
      "['The Alchemist', 'The Kite Runner', 'Harry Potter', 'Games of throne']\n"
     ]
    }
   ],
   "source": [
    "print(my_book_list)"
   ]
  },
  {
   "cell_type": "code",
   "execution_count": 38,
   "id": "03a0efd2",
   "metadata": {},
   "outputs": [
    {
     "name": "stdout",
     "output_type": "stream",
     "text": [
      "['The Alchemist', 'The Kite Runner', 'Harry Potter', 'The Witcher', 'Friends']\n"
     ]
    },
    {
     "data": {
      "text/plain": [
       "5"
      ]
     },
     "execution_count": 38,
     "metadata": {},
     "output_type": "execute_result"
    }
   ],
   "source": [
    "my_book_list[3:4] = [\"The Witcher\", \"Friends\"]\n",
    "print(my_book_list)\n",
    "len(my_book_list)"
   ]
  },
  {
   "cell_type": "code",
   "execution_count": 47,
   "id": "02594562",
   "metadata": {},
   "outputs": [
    {
     "data": {
      "text/plain": [
       "5"
      ]
     },
     "execution_count": 47,
     "metadata": {},
     "output_type": "execute_result"
    }
   ],
   "source": [
    "my_book_list[1:3] = [\"Scavenger Hunt\"] # replace the index 1 element and delete second one as it won't find index 2\n",
    "my_book_list\n",
    "len(my_book_list)"
   ]
  },
  {
   "cell_type": "markdown",
   "id": "05207bb8",
   "metadata": {},
   "source": [
    "### Insert Item\n",
    "Item is inserted at desired position"
   ]
  },
  {
   "cell_type": "code",
   "execution_count": 46,
   "id": "c541179e",
   "metadata": {},
   "outputs": [
    {
     "data": {
      "text/plain": [
       "[1, 5, 2, 3]"
      ]
     },
     "execution_count": 46,
     "metadata": {},
     "output_type": "execute_result"
    }
   ],
   "source": [
    "my_list = [1,2,3]\n",
    "my_list.insert(1,5)\n",
    "my_list"
   ]
  },
  {
   "cell_type": "markdown",
   "id": "5d5f8b17",
   "metadata": {},
   "source": [
    "### Append\n",
    "Item is added at the end of list."
   ]
  },
  {
   "cell_type": "code",
   "execution_count": 50,
   "id": "be3144f5",
   "metadata": {},
   "outputs": [
    {
     "data": {
      "text/plain": [
       "[1, 5, 2, 3, 7, 7]"
      ]
     },
     "execution_count": 50,
     "metadata": {},
     "output_type": "execute_result"
    }
   ],
   "source": [
    "my_list.append(7)\n",
    "my_list"
   ]
  },
  {
   "cell_type": "markdown",
   "id": "4cd4e26d",
   "metadata": {},
   "source": [
    "### Extend\n",
    "It extend the list element and append at end."
   ]
  },
  {
   "cell_type": "code",
   "execution_count": 53,
   "id": "4e94d286",
   "metadata": {},
   "outputs": [
    {
     "data": {
      "text/plain": [
       "['one', 'two', 'three', 't', 'w', 'o']"
      ]
     },
     "execution_count": 53,
     "metadata": {},
     "output_type": "execute_result"
    }
   ],
   "source": [
    "my_list = [\"one\",\"two\",\"three\"]\n",
    "my_list.extend(\"two\")\n",
    "my_list"
   ]
  },
  {
   "cell_type": "markdown",
   "id": "342306eb",
   "metadata": {},
   "source": [
    "## Remove items\n"
   ]
  },
  {
   "cell_type": "markdown",
   "id": "e5c583bb",
   "metadata": {},
   "source": [
    "### Remove item at a specified index\n",
    "\n",
    "Wwe use pop() method to remove an item at a specified index.\n"
   ]
  },
  {
   "cell_type": "code",
   "execution_count": 3,
   "id": "72b21e83",
   "metadata": {},
   "outputs": [
    {
     "data": {
      "text/plain": [
       "[1, 3]"
      ]
     },
     "execution_count": 3,
     "metadata": {},
     "output_type": "execute_result"
    }
   ],
   "source": [
    "my_list = [1,2,3]\n",
    "my_list.pop(1)\n",
    "\n",
    "my_list"
   ]
  },
  {
   "cell_type": "code",
   "execution_count": null,
   "id": "2ea6f81c",
   "metadata": {},
   "outputs": [],
   "source": []
  },
  {
   "cell_type": "code",
   "execution_count": null,
   "id": "1c05a15d",
   "metadata": {},
   "outputs": [],
   "source": []
  },
  {
   "cell_type": "markdown",
   "id": "74e99232",
   "metadata": {},
   "source": [
    "### Clearning the list\n",
    "We can use clear list using clear()"
   ]
  },
  {
   "cell_type": "code",
   "execution_count": 4,
   "id": "5dd6eec6",
   "metadata": {},
   "outputs": [
    {
     "data": {
      "text/plain": [
       "[]"
      ]
     },
     "execution_count": 4,
     "metadata": {},
     "output_type": "execute_result"
    }
   ],
   "source": [
    "my_list=[1,2,3]\n",
    "my_list.clear()\n",
    "my_list\n"
   ]
  },
  {
   "cell_type": "markdown",
   "id": "9cdfcb6b",
   "metadata": {},
   "source": [
    "### Sort List\n",
    "We can use sort() for sorting the data.\n"
   ]
  },
  {
   "cell_type": "code",
   "execution_count": 5,
   "id": "820814d4",
   "metadata": {},
   "outputs": [
    {
     "data": {
      "text/plain": [
       "['a', 'c', 'h', 'i', 'z']"
      ]
     },
     "execution_count": 5,
     "metadata": {},
     "output_type": "execute_result"
    }
   ],
   "source": [
    "my_list=['a', 'i', 'c', 'z','h']\n",
    "my_list.sort()\n",
    "my_list"
   ]
  },
  {
   "cell_type": "code",
   "execution_count": 6,
   "id": "4cc7853c",
   "metadata": {},
   "outputs": [
    {
     "data": {
      "text/plain": [
       "[1, 5, 7, 8]"
      ]
     },
     "execution_count": 6,
     "metadata": {},
     "output_type": "execute_result"
    }
   ],
   "source": [
    "my_list=[1,5,7,8]\n",
    "my_list.sort()\n",
    "my_list"
   ]
  },
  {
   "cell_type": "code",
   "execution_count": 8,
   "id": "218d06d0",
   "metadata": {},
   "outputs": [
    {
     "data": {
      "text/plain": [
       "['A', 'B', 'a', 'i', 'z']"
      ]
     },
     "execution_count": 8,
     "metadata": {},
     "output_type": "execute_result"
    }
   ],
   "source": [
    "#as sort() function sort data in ascending order so, caps letter come first and small letter\n",
    "my_list=['a', 'i', 'A', 'z','B']\n",
    "my_list.sort()\n",
    "my_list\n"
   ]
  },
  {
   "cell_type": "markdown",
   "id": "95353f5b",
   "metadata": {},
   "source": [
    "### Reverse Order\n",
    "We can use reverse() method to reverse the order of item in list. "
   ]
  },
  {
   "cell_type": "code",
   "execution_count": 11,
   "id": "00fb18fd",
   "metadata": {},
   "outputs": [
    {
     "data": {
      "text/plain": [
       "[4, 3, 2, 1]"
      ]
     },
     "execution_count": 11,
     "metadata": {},
     "output_type": "execute_result"
    }
   ],
   "source": [
    "my_list= [1,2,3,4]\n",
    "my_list.reverse()\n",
    "my_list"
   ]
  },
  {
   "cell_type": "markdown",
   "id": "4751ee5c",
   "metadata": {},
   "source": [
    "### Make a copy of a list\n",
    "We can use copy() method to make a copy of a list."
   ]
  },
  {
   "cell_type": "code",
   "execution_count": 12,
   "id": "dfb69e7a",
   "metadata": {},
   "outputs": [
    {
     "data": {
      "text/plain": [
       "[1, 2, 3]"
      ]
     },
     "execution_count": 12,
     "metadata": {},
     "output_type": "execute_result"
    }
   ],
   "source": [
    "my_list= [1,2,3]\n",
    "copy_list = my_list.copy()\n",
    "copy_list"
   ]
  },
  {
   "cell_type": "markdown",
   "id": "3d3873bd",
   "metadata": {},
   "source": [
    "### Join lists\n",
    "You can also join two list by siply using + operator."
   ]
  },
  {
   "cell_type": "code",
   "execution_count": 17,
   "id": "1936b248",
   "metadata": {},
   "outputs": [
    {
     "data": {
      "text/plain": [
       "[1, 2, 'a', 'b', 1, 2]"
      ]
     },
     "execution_count": 17,
     "metadata": {},
     "output_type": "execute_result"
    }
   ],
   "source": [
    "list1 = [1,2]\n",
    "list2 = [\"a\",\"b\"]\n",
    "list3 = list1+list2+list1\n",
    "list3"
   ]
  },
  {
   "cell_type": "code",
   "execution_count": 16,
   "id": "d2cd44ab",
   "metadata": {},
   "outputs": [
    {
     "data": {
      "text/plain": [
       "[1, 2, 'a', 'b']"
      ]
     },
     "execution_count": 16,
     "metadata": {},
     "output_type": "execute_result"
    }
   ],
   "source": [
    "list1 = [1,2]\n",
    "list2 = [\"a\",\"b\"]\n",
    "list1.extend(list2)\n",
    "list1"
   ]
  },
  {
   "cell_type": "markdown",
   "id": "2ab39762",
   "metadata": {},
   "source": [
    "## Python Conditions"
   ]
  },
  {
   "cell_type": "markdown",
   "id": "9502c23e",
   "metadata": {},
   "source": [
    "### if statement\n",
    "If we want some python code to one if some condition is true, we use if keyword."
   ]
  },
  {
   "cell_type": "code",
   "execution_count": 18,
   "id": "72d87f8c",
   "metadata": {},
   "outputs": [],
   "source": [
    "#if <some condition>\n",
    "#    code"
   ]
  },
  {
   "cell_type": "code",
   "execution_count": 22,
   "id": "fb31be62",
   "metadata": {},
   "outputs": [
    {
     "name": "stdout",
     "output_type": "stream",
     "text": [
      "x is greater than 5\n"
     ]
    }
   ],
   "source": [
    "#example of if condition\n",
    "x= 7\n",
    "if x>5 :\n",
    "    print(\"x is greater than 5\")"
   ]
  },
  {
   "cell_type": "markdown",
   "id": "592b941c",
   "metadata": {},
   "source": [
    "When condition of if meet, then it return print if condition is false, it give nothing but code will run.  \n",
    "To deal with this we use \"else\" i.e. else condition"
   ]
  },
  {
   "cell_type": "markdown",
   "id": "a691da11",
   "metadata": {},
   "source": [
    "### else statement"
   ]
  },
  {
   "cell_type": "code",
   "execution_count": 25,
   "id": "c1fec87e",
   "metadata": {},
   "outputs": [
    {
     "name": "stdout",
     "output_type": "stream",
     "text": [
      "x is smaller\n"
     ]
    }
   ],
   "source": [
    "#example of if condition\n",
    "x= 7\n",
    "if x>9 :\n",
    "    print(\"x is greater\")\n",
    "else:\n",
    "    print(\"x is smaller\")"
   ]
  },
  {
   "cell_type": "markdown",
   "id": "57342a4f",
   "metadata": {},
   "source": [
    "### elif statement\n",
    "when one condition fail, we use different condition for that we use elif i.e else if condition. We use \"elif\" keyword."
   ]
  },
  {
   "cell_type": "code",
   "execution_count": 29,
   "id": "5c63bac1",
   "metadata": {},
   "outputs": [
    {
     "name": "stdout",
     "output_type": "stream",
     "text": [
      "You are not eligible to vote.\n"
     ]
    }
   ],
   "source": [
    "#Example of elif conditition\n",
    "# x = int(input()) # take input from user\n",
    "x = 16\n",
    "if x>=18:\n",
    "    print(\"You are eligible to vote.\")\n",
    "else:\n",
    "    print(\"You are not eligible to vote.\")"
   ]
  },
  {
   "cell_type": "markdown",
   "id": "0454d839",
   "metadata": {},
   "source": [
    "### Short-hand if\n",
    "You can put if code block in one line"
   ]
  },
  {
   "cell_type": "code",
   "execution_count": 30,
   "id": "fe632a9b",
   "metadata": {},
   "outputs": [
    {
     "name": "stdout",
     "output_type": "stream",
     "text": [
      "X is greater\n"
     ]
    }
   ],
   "source": [
    "x=3\n",
    "if x>1: print(\"X is greater\")"
   ]
  },
  {
   "cell_type": "markdown",
   "id": "79dbb0e6",
   "metadata": {},
   "source": [
    "### Short-hand if-else"
   ]
  },
  {
   "cell_type": "code",
   "execution_count": 31,
   "id": "80599348",
   "metadata": {},
   "outputs": [
    {
     "name": "stdout",
     "output_type": "stream",
     "text": [
      "x is smaller\n"
     ]
    }
   ],
   "source": [
    "x=3\n",
    "print(\"X is greater\") if x>4 else print('x is smaller')"
   ]
  },
  {
   "cell_type": "markdown",
   "id": "3c228105",
   "metadata": {},
   "source": [
    "### Nested if\n",
    "You can put if condition inside another if condition using nested if."
   ]
  },
  {
   "cell_type": "code",
   "execution_count": 32,
   "id": "e546e662",
   "metadata": {},
   "outputs": [
    {
     "name": "stdout",
     "output_type": "stream",
     "text": [
      "x is greater than 10\n",
      "and it is greater than 30 as well\n"
     ]
    }
   ],
   "source": [
    "x = 35\n",
    "if x>10:\n",
    "    print(\"x is greater than 10\")\n",
    "    if x < 30:\n",
    "        print(\"but it is less than 30\")\n",
    "    else: \n",
    "        print(\"and it is greater than 30 as well\")"
   ]
  },
  {
   "cell_type": "markdown",
   "id": "3ed40038",
   "metadata": {},
   "source": [
    "### Python Loop\n",
    "Loop is used when we run code until condition become true.  \n",
    "There are two type of loop.  \n",
    "- for\n",
    "- while"
   ]
  },
  {
   "cell_type": "markdown",
   "id": "83649824",
   "metadata": {},
   "source": [
    "### while loop\n",
    "In a while loop, the loop run as long as contition become true.\n"
   ]
  },
  {
   "cell_type": "code",
   "execution_count": 1,
   "id": "6565cff9",
   "metadata": {},
   "outputs": [
    {
     "name": "stdout",
     "output_type": "stream",
     "text": [
      "0\n",
      "1\n",
      "2\n",
      "3\n",
      "4\n"
     ]
    }
   ],
   "source": [
    "x= 0\n",
    "while x<5:\n",
    "    print(x)\n",
    "    x+=1"
   ]
  },
  {
   "cell_type": "markdown",
   "id": "d607ad0b",
   "metadata": {},
   "source": [
    "### break statement\n",
    "The break statement breaks the loop and stop the execution and exist loop"
   ]
  },
  {
   "cell_type": "code",
   "execution_count": 4,
   "id": "d300498a",
   "metadata": {},
   "outputs": [
    {
     "name": "stdout",
     "output_type": "stream",
     "text": [
      "0\n",
      "1\n",
      "2\n",
      "3\n"
     ]
    }
   ],
   "source": [
    "x = 0\n",
    "while x < 10:\n",
    "    print(x)\n",
    "    x+=1\n",
    "    if x ==4:\n",
    "        break #once if condition meet, break statement break loop and exist the loop"
   ]
  },
  {
   "cell_type": "markdown",
   "id": "3708e18c",
   "metadata": {},
   "source": [
    "### continue statement\n",
    "The continue statement stop the current loop iterate and continues with the new iteration"
   ]
  },
  {
   "cell_type": "code",
   "execution_count": 6,
   "id": "d83e621f",
   "metadata": {},
   "outputs": [
    {
     "name": "stdout",
     "output_type": "stream",
     "text": [
      "1\n",
      "2\n",
      "3\n",
      "5\n",
      "6\n",
      "7\n",
      "8\n",
      "9\n",
      "10\n"
     ]
    }
   ],
   "source": [
    "x = 0\n",
    "while x < 10:\n",
    "    x+=1\n",
    "    if x ==4:\n",
    "        continue \n",
    "    print(x)"
   ]
  },
  {
   "cell_type": "markdown",
   "id": "ebf5c288",
   "metadata": {},
   "source": [
    "### for loop\n",
    "The for loop is something you will be using a lot. It can iterate over a sequence(list, tuple, set, dict, string)\n"
   ]
  },
  {
   "cell_type": "code",
   "execution_count": 7,
   "id": "238a6131",
   "metadata": {},
   "outputs": [
    {
     "name": "stdout",
     "output_type": "stream",
     "text": [
      "one\n",
      "two\n",
      "three\n"
     ]
    }
   ],
   "source": [
    "#iterate over a list\n",
    "my_list = [\"one\",\"two\",\"three\"]\n",
    "for num in my_list:\n",
    "    print(num)"
   ]
  },
  {
   "cell_type": "code",
   "execution_count": 8,
   "id": "40db1c64",
   "metadata": {},
   "outputs": [
    {
     "name": "stdout",
     "output_type": "stream",
     "text": [
      "a\n",
      "n\n",
      "u\n",
      "s\n",
      "h\n",
      "a\n"
     ]
    }
   ],
   "source": [
    "#iterate over a string\n",
    "for i in \"anusha\":\n",
    "    print(i)"
   ]
  },
  {
   "cell_type": "markdown",
   "id": "14319487",
   "metadata": {},
   "source": [
    "We can use break and while statement in for loop as well.\n"
   ]
  },
  {
   "cell_type": "markdown",
   "id": "8035c9e2",
   "metadata": {},
   "source": [
    "### The range() function\n",
    "The  range() function returns a sequence of number starting with 0(by default) and increment by 1 (by default) up to the number less than one of number provided"
   ]
  },
  {
   "cell_type": "code",
   "execution_count": 9,
   "id": "3ced41aa",
   "metadata": {},
   "outputs": [
    {
     "name": "stdout",
     "output_type": "stream",
     "text": [
      "0\n",
      "1\n",
      "2\n",
      "3\n",
      "4\n",
      "5\n"
     ]
    }
   ],
   "source": [
    "for i in range(6):\n",
    "    print(i)"
   ]
  },
  {
   "cell_type": "code",
   "execution_count": 11,
   "id": "918a484b",
   "metadata": {},
   "outputs": [
    {
     "name": "stdout",
     "output_type": "stream",
     "text": [
      "2\n",
      "3\n",
      "4\n",
      "5\n"
     ]
    }
   ],
   "source": [
    "for i in range(2, 6):\n",
    "    print(i)\n",
    "    "
   ]
  },
  {
   "cell_type": "code",
   "execution_count": 12,
   "id": "46219995",
   "metadata": {},
   "outputs": [
    {
     "name": "stdout",
     "output_type": "stream",
     "text": [
      "1\n",
      "3\n",
      "5\n",
      "7\n",
      "9\n"
     ]
    }
   ],
   "source": [
    "for i in range(1,10,2):\n",
    "    print(i)"
   ]
  },
  {
   "cell_type": "markdown",
   "id": "0a562669",
   "metadata": {},
   "source": [
    "Here last digit from range is the number of time loop break and continue after that number of elements."
   ]
  },
  {
   "cell_type": "markdown",
   "id": "b41028cd",
   "metadata": {},
   "source": [
    "### Nested loop\n",
    "We can put loop inside loop."
   ]
  },
  {
   "cell_type": "code",
   "execution_count": 13,
   "id": "4324b0c9",
   "metadata": {},
   "outputs": [
    {
     "name": "stdout",
     "output_type": "stream",
     "text": [
      "red chair\n",
      "red table\n",
      "red house\n",
      "blue chair\n",
      "blue table\n",
      "blue house\n"
     ]
    }
   ],
   "source": [
    "colors = ['red','blue']\n",
    "objects= ['chair', 'table', 'house']\n",
    "for i in colors:\n",
    "    for j in objects:\n",
    "        print(i,j)"
   ]
  },
  {
   "cell_type": "code",
   "execution_count": 18,
   "id": "e477504e",
   "metadata": {},
   "outputs": [
    {
     "name": "stdout",
     "output_type": "stream",
     "text": [
      "Table of 1\n",
      "1 * 1 = 1\n",
      "1 * 2 = 2\n",
      "1 * 3 = 3\n",
      "1 * 4 = 4\n",
      "1 * 5 = 5\n",
      "1 * 6 = 6\n",
      "1 * 7 = 7\n",
      "1 * 8 = 8\n",
      "1 * 9 = 9\n",
      "1 * 10 = 10\n",
      "Table of 2\n",
      "2 * 1 = 2\n",
      "2 * 2 = 4\n",
      "2 * 3 = 6\n",
      "2 * 4 = 8\n",
      "2 * 5 = 10\n",
      "2 * 6 = 12\n",
      "2 * 7 = 14\n",
      "2 * 8 = 16\n",
      "2 * 9 = 18\n",
      "2 * 10 = 20\n",
      "Table of 3\n",
      "3 * 1 = 3\n",
      "3 * 2 = 6\n",
      "3 * 3 = 9\n",
      "3 * 4 = 12\n",
      "3 * 5 = 15\n",
      "3 * 6 = 18\n",
      "3 * 7 = 21\n",
      "3 * 8 = 24\n",
      "3 * 9 = 27\n",
      "3 * 10 = 30\n",
      "Table of 4\n",
      "4 * 1 = 4\n",
      "4 * 2 = 8\n",
      "4 * 3 = 12\n",
      "4 * 4 = 16\n",
      "4 * 5 = 20\n",
      "4 * 6 = 24\n",
      "4 * 7 = 28\n",
      "4 * 8 = 32\n",
      "4 * 9 = 36\n",
      "4 * 10 = 40\n",
      "Table of 5\n",
      "5 * 1 = 5\n",
      "5 * 2 = 10\n",
      "5 * 3 = 15\n",
      "5 * 4 = 20\n",
      "5 * 5 = 25\n",
      "5 * 6 = 30\n",
      "5 * 7 = 35\n",
      "5 * 8 = 40\n",
      "5 * 9 = 45\n",
      "5 * 10 = 50\n"
     ]
    }
   ],
   "source": [
    "#to print table of 1 to 5\n",
    "for i in range(1,6):\n",
    "    print(\"Table of\", i)\n",
    "    for j in range(1,11):\n",
    "        print(i,\"*\",j, \"=\",i*j)"
   ]
  },
  {
   "cell_type": "code",
   "execution_count": null,
   "id": "ef5c3959",
   "metadata": {},
   "outputs": [],
   "source": []
  }
 ],
 "metadata": {
  "kernelspec": {
   "display_name": "Python 3 (ipykernel)",
   "language": "python",
   "name": "python3"
  },
  "language_info": {
   "codemirror_mode": {
    "name": "ipython",
    "version": 3
   },
   "file_extension": ".py",
   "mimetype": "text/x-python",
   "name": "python",
   "nbconvert_exporter": "python",
   "pygments_lexer": "ipython3",
   "version": "3.11.3"
  }
 },
 "nbformat": 4,
 "nbformat_minor": 5
}
