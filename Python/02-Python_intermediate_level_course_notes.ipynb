{
 "cells": [
  {
   "cell_type": "code",
   "execution_count": 1,
   "id": "1a39385e",
   "metadata": {},
   "outputs": [],
   "source": [
    "class DataScience:\n",
    "    pass"
   ]
  },
  {
   "cell_type": "code",
   "execution_count": 2,
   "id": "13be775c",
   "metadata": {},
   "outputs": [],
   "source": [
    "student1 = DataScience()\n",
    "student2 = DataScience()"
   ]
  },
  {
   "cell_type": "code",
   "execution_count": 3,
   "id": "c1be9a92",
   "metadata": {},
   "outputs": [
    {
     "name": "stdout",
     "output_type": "stream",
     "text": [
      "2762118155984\n",
      "2762118155984\n"
     ]
    }
   ],
   "source": [
    "print(id(student1))\n",
    "print(id(student1))"
   ]
  },
  {
   "cell_type": "code",
   "execution_count": 4,
   "id": "36ec451b",
   "metadata": {},
   "outputs": [],
   "source": [
    "class DataScience:\n",
    "    #class variabke\n",
    "    school = \"School of Data Science\" #attrubute"
   ]
  },
  {
   "cell_type": "markdown",
   "id": "891ca682",
   "metadata": {},
   "source": [
    "Below, we create two instance of student class, and we print the value of school."
   ]
  },
  {
   "cell_type": "code",
   "execution_count": 6,
   "id": "c440d68d",
   "metadata": {},
   "outputs": [
    {
     "name": "stdout",
     "output_type": "stream",
     "text": [
      "School of Data Science\n",
      "School of Data Science\n"
     ]
    }
   ],
   "source": [
    "student1 = DataScience()\n",
    "student2 = DataScience()\n",
    "print(student1.school)\n",
    "print(student2.school)"
   ]
  },
  {
   "cell_type": "markdown",
   "id": "b7d1d9da",
   "metadata": {},
   "source": [
    "Let's now look at example of instance variables.  \n",
    "Instamce variables are normally defined inside the __init__ method.  \n",
    "  \n",
    "Let's first understand what methods are. Basically, 'method' in oop are functions defined within a calss. Just like normal function, they normally take in some input in the form of argument, do the proessing.\n",
    "\n"
   ]
  },
  {
   "cell_type": "markdown",
   "id": "cc1bda2a",
   "metadata": {},
   "source": [
    "### Constructor\n",
    "it call by itself.\n"
   ]
  },
  {
   "cell_type": "code",
   "execution_count": 17,
   "id": "99d78e2f",
   "metadata": {},
   "outputs": [],
   "source": [
    "class DataScience:\n",
    "    #constructor __init__\n",
    "    def __init__ (self, name, level):\n",
    "        # instance variable\n",
    "        self.name = name\n",
    "        self.level = level\n",
    "        \n",
    "    # __str__ method\n",
    "    def __str__(self):\n",
    "        return '{} studies in {} level'.format(self.name,self.level)\n",
    "    \n",
    "    #regular method\n",
    "    def level_up(self):\n",
    "        self.level +=1"
   ]
  },
  {
   "cell_type": "markdown",
   "id": "7af7e735",
   "metadata": {},
   "source": [
    "Now we instabtuate twi instances of the ckass."
   ]
  },
  {
   "cell_type": "code",
   "execution_count": 18,
   "id": "a26d70fe",
   "metadata": {},
   "outputs": [],
   "source": [
    "student1 = DataScience(\"Anusha\",1)\n",
    "student2 = DataScience(\"Serenity\",2)\n",
    "\n"
   ]
  },
  {
   "cell_type": "code",
   "execution_count": 19,
   "id": "aedc9685",
   "metadata": {},
   "outputs": [
    {
     "name": "stdout",
     "output_type": "stream",
     "text": [
      "Anusha studies in 1 level\n",
      "Serenity studies in 2 level\n"
     ]
    }
   ],
   "source": [
    "# print(student1.name)\n",
    "# print(student1.level)\n",
    "# print(student2.name)\n",
    "# print(student2.level)\n",
    "print(student1)\n",
    "print(student2)"
   ]
  },
  {
   "cell_type": "markdown",
   "id": "33182355",
   "metadata": {},
   "source": [
    "Now, we call the level_up() method on the instance on student1, it will increase the level by 1."
   ]
  },
  {
   "cell_type": "code",
   "execution_count": 20,
   "id": "d51eaea5",
   "metadata": {},
   "outputs": [
    {
     "name": "stdout",
     "output_type": "stream",
     "text": [
      "Anusha studies in 2 level\n"
     ]
    }
   ],
   "source": [
    "#invoking method\n",
    "student1.level_up()\n",
    "print(student1)"
   ]
  },
  {
   "cell_type": "code",
   "execution_count": 27,
   "id": "00b40a7f",
   "metadata": {},
   "outputs": [],
   "source": [
    "import math\n",
    "# Rectangle class\n",
    "class Rectangle:\n",
    "    def __init__(self, color, filled, width, length): #constructor\n",
    "        self.__color = color\n",
    "        self.__filled = filled\n",
    "        self.__width = width\n",
    "        self.__length= length\n",
    "        \n",
    "    #method\n",
    "    def get_color(self):\n",
    "        return self.__color\n",
    "    def set_color(self, color):\n",
    "        self.__color = color\n",
    "    def is_filled(self):\n",
    "        return self.__filled\n",
    "    def get_area(self):\n",
    "        return self.__width * self.__length\n",
    "\n",
    "#circle class\n",
    "class Circle:\n",
    "    def __init__(self, color, filled, radius):\n",
    "        self.color = color\n",
    "        self.filled = filled\n",
    "        self.radius = radius\n",
    "    #method\n",
    "    def get_color(self):\n",
    "        return self.__color\n",
    "    def set_color(self, color):\n",
    "        self.__color = color\n",
    "    def is_filled(self):\n",
    "        return self.__filled\n",
    "    def get_area(self):\n",
    "        return math.pi * self.radius ** 2\n"
   ]
  },
  {
   "cell_type": "code",
   "execution_count": 28,
   "id": "38c9af47",
   "metadata": {},
   "outputs": [
    {
     "name": "stdout",
     "output_type": "stream",
     "text": [
      "<__main__.Rectangle object at 0x000002831B471F50>\n"
     ]
    }
   ],
   "source": []
  },
  {
   "cell_type": "markdown",
   "id": "1fc68d93",
   "metadata": {},
   "source": [
    "### Inheritance"
   ]
  },
  {
   "cell_type": "code",
   "execution_count": 3,
   "id": "6f03e8cc",
   "metadata": {},
   "outputs": [
    {
     "name": "stdout",
     "output_type": "stream",
     "text": [
      "explore() method from class B\n",
      "explore() method from class A\n"
     ]
    }
   ],
   "source": [
    "class A:\n",
    "    def explore(self):\n",
    "        print(\"explore() method from class A\")\n",
    "class B(A):\n",
    "    def explore(self):\n",
    "        print(\"explore() method from class B\")\n",
    "        \n",
    "b_obj = B() #instance of class B\n",
    "a_obj = A() #instance of class A\n",
    "\n",
    "b_obj.explore()\n",
    "a_obj.explore()"
   ]
  },
  {
   "cell_type": "code",
   "execution_count": 5,
   "id": "196c8165",
   "metadata": {},
   "outputs": [
    {
     "name": "stdout",
     "output_type": "stream",
     "text": [
      "explore() method from class A\n",
      "explore() method from class B\n",
      "explore() method from class A\n"
     ]
    }
   ],
   "source": [
    "class A:\n",
    "    def explore(self):\n",
    "        print(\"explore() method from class A\")\n",
    "class B(A):\n",
    "    def explore(self):\n",
    "        super().explore()\n",
    "        print(\"explore() method from class B\")\n",
    "        \n",
    "b_obj = B() #instance of class B\n",
    "a_obj = A() #instance of class A\n",
    "\n",
    "b_obj.explore()\n",
    "a_obj.explore()"
   ]
  },
  {
   "cell_type": "markdown",
   "id": "7614f370",
   "metadata": {},
   "source": [
    "## Comprehension  \n",
    "There are 3 types of in python.  \n",
    "- List Comprehension \n",
    "- Set ccomprehension\n",
    "- Dictionary Comprehension"
   ]
  },
  {
   "cell_type": "markdown",
   "id": "b19802ca",
   "metadata": {},
   "source": [
    "### List comprehension"
   ]
  },
  {
   "cell_type": "markdown",
   "id": "a67b189c",
   "metadata": {},
   "source": [
    "The syntax for list comprehension is as follows:  \n",
    "[expression for item in itereable]"
   ]
  },
  {
   "cell_type": "code",
   "execution_count": 8,
   "id": "47eb9a1c",
   "metadata": {},
   "outputs": [
    {
     "name": "stdout",
     "output_type": "stream",
     "text": [
      "[1, 4, 9, 16, 25, 36, 49, 64, 81]\n",
      "[4, 16, 36, 64, 100, 144, 196, 256, 324]\n",
      "[1, 9, 25, 49, 81, 121, 169, 225, 289, 361]\n"
     ]
    }
   ],
   "source": [
    "# example of list comprehension\n",
    "squares_list = [i*i for i in range(1,10)] #square of numbers from 1 to 9\n",
    "squares_even_list = [j*j for j in range(1,20) if j%2 == 0] # square of even numbers from 1 to 19\n",
    "square_odd_list = [x*x for x in range(1,20) if x%2!=0] #squares of odd numbers from 1 to 19\n",
    "print(squares_list)\n",
    "print(squares_even_list)\n",
    "print(square_odd_list)"
   ]
  },
  {
   "cell_type": "markdown",
   "id": "e5789e90",
   "metadata": {},
   "source": [
    "### List comprehension with if-else"
   ]
  },
  {
   "cell_type": "markdown",
   "id": "f0e5d73c",
   "metadata": {},
   "source": [
    "Syntax:  \n",
    "[expression if conditional else expression2 for item in iterable]"
   ]
  },
  {
   "cell_type": "code",
   "execution_count": 9,
   "id": "27cd4ef8",
   "metadata": {},
   "outputs": [
    {
     "data": {
      "text/plain": [
       "[0, 1, 4, 3, 16, 5, 36, 7, 64, 9]"
      ]
     },
     "execution_count": 9,
     "metadata": {},
     "output_type": "execute_result"
    }
   ],
   "source": [
    "#square a number if it is even; leave it alone if it is odd\n",
    "lst = [i*i if i % 2 == 0 else i for i in range(10)]\n",
    "lst"
   ]
  },
  {
   "cell_type": "code",
   "execution_count": 10,
   "id": "b35d0db3",
   "metadata": {},
   "outputs": [
    {
     "data": {
      "text/plain": [
       "[0, 1, 2, 9, 4, 25, 6, 49, 8, 81]"
      ]
     },
     "execution_count": 10,
     "metadata": {},
     "output_type": "execute_result"
    }
   ],
   "source": [
    "#square a number if it is odd\n",
    "odd_list = [i*i if i %2 != 0 else i for i in range(10)]\n",
    "odd_list"
   ]
  },
  {
   "cell_type": "markdown",
   "id": "bb893919",
   "metadata": {},
   "source": [
    "#### Multiple if condition in list comprehension"
   ]
  },
  {
   "cell_type": "code",
   "execution_count": 11,
   "id": "57c28819",
   "metadata": {},
   "outputs": [
    {
     "name": "stdout",
     "output_type": "stream",
     "text": [
      "[0, 6, 12, 18]\n"
     ]
    }
   ],
   "source": [
    "lst = []\n",
    "for i in range(20):\n",
    "    if i%2 ==0:\n",
    "        if i%3 == 0:\n",
    "            lst.append(i)\n",
    "print(lst)"
   ]
  },
  {
   "cell_type": "markdown",
   "id": "7f576f5a",
   "metadata": {},
   "source": [
    "We can do same task with just one line of code using list comprehension, as shown below:\n"
   ]
  },
  {
   "cell_type": "code",
   "execution_count": 12,
   "id": "e131a4bb",
   "metadata": {},
   "outputs": [
    {
     "data": {
      "text/plain": [
       "[0, 6, 12, 18]"
      ]
     },
     "execution_count": 12,
     "metadata": {},
     "output_type": "execute_result"
    }
   ],
   "source": [
    "lst = [i for i in range(20) if i%2==0 if i%3 ==0]\n",
    "lst"
   ]
  },
  {
   "cell_type": "markdown",
   "id": "0f0f2147",
   "metadata": {},
   "source": [
    "### Call a method on each element using list comprehension"
   ]
  },
  {
   "cell_type": "code",
   "execution_count": null,
   "id": "8d70853b",
   "metadata": {},
   "outputs": [],
   "source": []
  },
  {
   "cell_type": "code",
   "execution_count": 13,
   "id": "475435fe",
   "metadata": {},
   "outputs": [
    {
     "data": {
      "text/plain": [
       "['Steve', 'Kara', 'Saif']"
      ]
     },
     "execution_count": 13,
     "metadata": {},
     "output_type": "execute_result"
    }
   ],
   "source": [
    "#using capitaliza() to capitalize first letter of word\n",
    "lst = [name.capitalize() for name in ['STEVE','KaRa',\"SAIF\"]]\n",
    "lst"
   ]
  },
  {
   "cell_type": "code",
   "execution_count": 14,
   "id": "767b00af",
   "metadata": {},
   "outputs": [
    {
     "data": {
      "text/plain": [
       "['steve', 'kara', 'saif']"
      ]
     },
     "execution_count": 14,
     "metadata": {},
     "output_type": "execute_result"
    }
   ],
   "source": [
    "#using lower() to make first letter of word small\n",
    "lst = [name.lower() for name in ['STEVE','KaRa','SAIF']]\n",
    "lst"
   ]
  },
  {
   "cell_type": "code",
   "execution_count": 15,
   "id": "f7067f4d",
   "metadata": {},
   "outputs": [
    {
     "data": {
      "text/plain": [
       "['STEVE', 'KARA', 'SAIF']"
      ]
     },
     "execution_count": 15,
     "metadata": {},
     "output_type": "execute_result"
    }
   ],
   "source": [
    "#using upper() to make all letter in capital\n",
    "lst = [name.upper() for name in ['STEVE','KaRa','SAIF']]\n",
    "lst"
   ]
  },
  {
   "cell_type": "markdown",
   "id": "9f51c4b2",
   "metadata": {},
   "source": [
    "### Set comprehension\n",
    "\n",
    "Set comprehension is very much like the List Comprehension, with exception using {} brackets instead of square brackets []. As set do not allows duplicates.\n"
   ]
  },
  {
   "cell_type": "code",
   "execution_count": 17,
   "id": "842c34ab",
   "metadata": {},
   "outputs": [
    {
     "data": {
      "text/plain": [
       "{(3, 4, 5),\n",
       " (4, 3, 5),\n",
       " (5, 12, 13),\n",
       " (6, 8, 10),\n",
       " (8, 6, 10),\n",
       " (8, 15, 17),\n",
       " (9, 12, 15),\n",
       " (12, 5, 13),\n",
       " (12, 9, 15),\n",
       " (15, 8, 17)}"
      ]
     },
     "execution_count": 17,
     "metadata": {},
     "output_type": "execute_result"
    }
   ],
   "source": [
    "#example to come up with a set of pythagorean Triplets\n",
    "\n",
    "pythagorean_triplests = {(x,y,z) for x in range(1,20) for y in range(1,20) for z in range(1,20) if (x**2 + y**2 == z**2) }\n",
    "pythagorean_triplests"
   ]
  },
  {
   "cell_type": "markdown",
   "id": "2bd0a9df",
   "metadata": {},
   "source": [
    "### DIctionary Comprehension"
   ]
  },
  {
   "cell_type": "code",
   "execution_count": 19,
   "id": "9d64021e",
   "metadata": {},
   "outputs": [
    {
     "data": {
      "text/plain": [
       "{1: 1.0,\n",
       " 2: 1.4142135623730951,\n",
       " 3: 1.7320508075688772,\n",
       " 4: 2.0,\n",
       " 5: 2.23606797749979}"
      ]
     },
     "execution_count": 19,
     "metadata": {},
     "output_type": "execute_result"
    }
   ],
   "source": [
    "# dict of numbers from 1 to 5 and their corresponding sqaure roots\n",
    "square_roots_dict = {num: num**0.5 for num in range(1,6)} #range (1,6)=>[1,2,3,4,5]\n",
    "square_roots_dict"
   ]
  },
  {
   "cell_type": "code",
   "execution_count": 22,
   "id": "2afabe06",
   "metadata": {},
   "outputs": [
    {
     "data": {
      "text/plain": [
       "{1: 2, 2: 4, 3: 6, 4: 8, 5: 10, 6: 12, 7: 14, 8: 16, 9: 18, 10: 20}"
      ]
     },
     "execution_count": 22,
     "metadata": {},
     "output_type": "execute_result"
    }
   ],
   "source": [
    "# square of 10 number in dictionary\n",
    "square_dict = {num: num*2 for num in range(1,11)}\n",
    "square_dict"
   ]
  },
  {
   "cell_type": "markdown",
   "id": "b8a05a0c",
   "metadata": {},
   "source": [
    "#### Example \n",
    "Suppose, you want to provide 10% discount for items whose amount is more than $10. We can use dictionary comprehension to get the results in following ways."
   ]
  },
  {
   "cell_type": "code",
   "execution_count": 25,
   "id": "243558d9",
   "metadata": {},
   "outputs": [
    {
     "data": {
      "text/plain": [
       "{'Apple': 10.8, 'Orange': 6, 'Mango': 5, 'Kiwi': 18.0}"
      ]
     },
     "execution_count": 25,
     "metadata": {},
     "output_type": "execute_result"
    }
   ],
   "source": [
    "bill = {\"Apple\":12, \"Orange\":6, \"Mango\":5, \"Kiwi\":20}\n",
    "discount_bill = {k:(v*0.9 if v>10 else v) for k,v in bill.items()} #where k = key and v is value and discounding value by 10% for greater than $10\n",
    "discount_bill"
   ]
  },
  {
   "cell_type": "markdown",
   "id": "5d2e7ac0",
   "metadata": {},
   "source": [
    "# Iterators\n",
    "Iterators in python are object that can be iterated upon.  \n",
    "  \n",
    "There is function called \"iter()\".\n"
   ]
  },
  {
   "cell_type": "code",
   "execution_count": 27,
   "id": "5e1d0172",
   "metadata": {},
   "outputs": [
    {
     "name": "stdout",
     "output_type": "stream",
     "text": [
      "hello\n",
      "how\n",
      "are\n",
      "you\n",
      "<list_iterator object at 0x000001CD97586470>\n"
     ]
    }
   ],
   "source": [
    "lst = [\"hello\",\"how\",\"are\",\"you\"] # lst is an iteratble\n",
    "# build an  iterator (my_iterator) using iter() function\n",
    "my_iterator = iter(lst) #Equivalent to lst.__iter__()\n",
    "#my_iterator = lst.__iter__()\n",
    "\n",
    "print(next(my_iterator))\n",
    "print(next(my_iterator))\n",
    "print(next(my_iterator))\n",
    "print(next(my_iterator))\n",
    "print(my_iterator)"
   ]
  },
  {
   "cell_type": "code",
   "execution_count": 28,
   "id": "14661d68",
   "metadata": {},
   "outputs": [
    {
     "ename": "StopIteration",
     "evalue": "",
     "output_type": "error",
     "traceback": [
      "\u001b[1;31m---------------------------------------------------------------------------\u001b[0m",
      "\u001b[1;31mStopIteration\u001b[0m                             Traceback (most recent call last)",
      "Cell \u001b[1;32mIn[28], line 1\u001b[0m\n\u001b[1;32m----> 1\u001b[0m \u001b[38;5;28mprint\u001b[39m(\u001b[38;5;28mnext\u001b[39m(my_iterator))\n",
      "\u001b[1;31mStopIteration\u001b[0m: "
     ]
    }
   ],
   "source": [
    "print(next(my_iterator))"
   ]
  },
  {
   "cell_type": "markdown",
   "id": "b8dda9e1",
   "metadata": {},
   "source": [
    "return : returns value and terminates the function\n",
    "yeild : Pauses the function saving all its states ad continues on from there on subsequent calls. Does not terminated the function"
   ]
  },
  {
   "cell_type": "code",
   "execution_count": 29,
   "id": "e873b699",
   "metadata": {},
   "outputs": [],
   "source": [
    "# generator function defination\n",
    "def my_gen():\n",
    "    yield 2\n",
    "    yield 3\n",
    "    yield 4"
   ]
  },
  {
   "cell_type": "code",
   "execution_count": 30,
   "id": "d8cd71a2",
   "metadata": {},
   "outputs": [],
   "source": [
    "# creating generator obj\n",
    "my_gen_obj = my_gen()"
   ]
  },
  {
   "cell_type": "code",
   "execution_count": 31,
   "id": "a71a7f97",
   "metadata": {},
   "outputs": [
    {
     "name": "stdout",
     "output_type": "stream",
     "text": [
      "<class 'generator'>\n"
     ]
    }
   ],
   "source": [
    "print(type(my_gen_obj)) # checking type"
   ]
  },
  {
   "cell_type": "code",
   "execution_count": 32,
   "id": "38d94a50",
   "metadata": {},
   "outputs": [
    {
     "name": "stdout",
     "output_type": "stream",
     "text": [
      "2\n",
      "3\n",
      "4\n"
     ]
    }
   ],
   "source": [
    "print(next(my_gen_obj)) #o/p 2\n",
    "print(next(my_gen_obj)) #o/p 3\n",
    "print(next(my_gen_obj)) #o/p 4"
   ]
  },
  {
   "cell_type": "markdown",
   "id": "d5e2be87",
   "metadata": {},
   "source": [
    "Lets see how we can use genrator to reverse the string"
   ]
  },
  {
   "cell_type": "code",
   "execution_count": 35,
   "id": "aa90d58d",
   "metadata": {},
   "outputs": [],
   "source": [
    "def rev_str(input_str):\n",
    "    length = len(input_str) # get the length of the string\n",
    "    for i in range(length-1, -1 -1):\n",
    "        yield input_str[i]\n",
    "for i in rev_str(\"generator\"):\n",
    "    print(i)"
   ]
  },
  {
   "cell_type": "code",
   "execution_count": null,
   "id": "d7e114d4",
   "metadata": {},
   "outputs": [],
   "source": []
  }
 ],
 "metadata": {
  "kernelspec": {
   "display_name": "Python 3 (ipykernel)",
   "language": "python",
   "name": "python3"
  },
  "language_info": {
   "codemirror_mode": {
    "name": "ipython",
    "version": 3
   },
   "file_extension": ".py",
   "mimetype": "text/x-python",
   "name": "python",
   "nbconvert_exporter": "python",
   "pygments_lexer": "ipython3",
   "version": "3.11.3"
  }
 },
 "nbformat": 4,
 "nbformat_minor": 5
}
